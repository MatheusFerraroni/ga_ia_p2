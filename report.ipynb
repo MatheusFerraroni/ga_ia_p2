{
 "cells": [
  {
   "cell_type": "markdown",
   "metadata": {
    "colab_type": "text",
    "id": "view-in-github"
   },
   "source": [
    "<a href=\"https://colab.research.google.com/github/lucaslzl/search_ia_p1/blob/master/Final_Report.ipynb\" target=\"_parent\"><img src=\"https://colab.research.google.com/assets/colab-badge.svg\" alt=\"Open In Colab\"/></a>"
   ]
  },
  {
   "cell_type": "markdown",
   "metadata": {
    "colab_type": "text",
    "id": "uDgcJ3xfSwxh"
   },
   "source": [
    "# **Introduction to Artificial Intelligence - MO416A**\n",
    "**UNIVERSITY OF CAMPINAS**\n",
    "\n",
    "\n",
    "\n",
    "This work was completed by the following members:\n",
    "\n",
    "\n",
    "\n",
    "*   Aissa Hadj - 265189\n",
    "*   Lucas Zanco Ladeira - 188951\n",
    "*   Matheus Ferraroni - 212142\n",
    "*   Maria Vitória Rodrigues Oliveira - 262884\n",
    "*   Oscar Ciceri - 164786\n",
    "\n",
    "The original code of the project is located on a [repository inside Github](https://github.com/lucaslzl/ga_ia_p2) and the video showing the search strategies working is on [youtube](https://youtube.com). \n",
    "\n"
   ]
  },
  {
   "cell_type": "markdown",
   "metadata": {},
   "source": [
    "# 1 - Introduction\n",
    "\n",
    "The problem that will be tackled in this project is Feature Selection. It comprehends to obtain a subset of the features available in the dataset to improve the model results. By having irrelevant features in the dataset more processing and memory requirements are necessary. To summarize, some pros may be mentioned:\n",
    "- Reduces Overfitting\n",
    "- Improves Accurracy\n",
    "- Reduces Training Time\n",
    "\n",
    "Feature Selection may be done manually or automatically. Some manual techniques comprehend: univariate selection, feature importance, correlation matrix. Univariate selection has the goal to statistically describe the relation between each feature and the target. Feature importance generates a score for each feature to rank them, for instance, Decision Tree algorithms may rank features according to Gini impurity tests. Finally, Correlation Matrix show the correlation between each pair of features so that features with a high correlation may be removed. The literature presents the usage of optimization techniques to automatically find the best, or a quite good, subset of features. Some of the methods available comprehend:\n",
    "- <b>Exaustive search</b>\n",
    "- <b>Simulated Annealing</b>\n",
    "- <b>Transformation Graph</b>\n",
    "- <b>Genetic Algorithms</b>\n",
    "\n",
    "<b>Exaustive Search</b> is not a optimization technique, but it is worth to be mentioned as the computational complexity $O(2^n)$. This technique tries every subset to find the best one. That presents how it is not feasible in most of the cases to use this technique. <b>Simulated Annealing</b> comprehends is a metaheuristic for complex nonlinear optimization problems and is based on the analogy of the simulation of the annealing of solids. The analogy pairs are as follows: feasible solution (state), cost (energy), optimal solution (ground state), local search (rapid quenching), simulated annealing (careful annealing). <b>Transformation Graph</b>. <b>Genetic Algorithms</b>."
   ]
  },
  {
   "cell_type": "markdown",
   "metadata": {},
   "source": []
  },
  {
   "cell_type": "markdown",
   "metadata": {},
   "source": [
    "# 2 - Genetic Algorithm"
   ]
  },
  {
   "cell_type": "markdown",
   "metadata": {},
   "source": []
  },
  {
   "cell_type": "markdown",
   "metadata": {},
   "source": [
    "# 3 - Methodology"
   ]
  },
  {
   "cell_type": "markdown",
   "metadata": {},
   "source": []
  },
  {
   "cell_type": "markdown",
   "metadata": {},
   "source": [
    "# 4 - Results"
   ]
  },
  {
   "cell_type": "markdown",
   "metadata": {},
   "source": []
  },
  {
   "cell_type": "markdown",
   "metadata": {},
   "source": [
    "# 5 - Conclusions"
   ]
  },
  {
   "cell_type": "markdown",
   "metadata": {},
   "source": []
  }
 ],
 "metadata": {
  "colab": {
   "collapsed_sections": [
    "TzNJDNdBSiXy",
    "Xe1hkEvOZgT8",
    "Hc-yvZ4qbkgh"
   ],
   "include_colab_link": true,
   "name": "Final Report.ipynb",
   "provenance": []
  },
  "kernelspec": {
   "display_name": "Python 3",
   "language": "python",
   "name": "python3"
  },
  "language_info": {
   "codemirror_mode": {
    "name": "ipython",
    "version": 3
   },
   "file_extension": ".py",
   "mimetype": "text/x-python",
   "name": "python",
   "nbconvert_exporter": "python",
   "pygments_lexer": "ipython3",
   "version": "3.7.4"
  }
 },
 "nbformat": 4,
 "nbformat_minor": 1
}
