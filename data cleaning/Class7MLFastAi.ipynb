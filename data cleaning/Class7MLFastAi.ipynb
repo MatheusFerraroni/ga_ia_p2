{
  "nbformat": 4,
  "nbformat_minor": 0,
  "metadata": {
    "colab": {
      "name": "Class7MLFastAi.ipynb",
      "provenance": [],
      "collapsed_sections": [
        "fjirZ6tb3WjZ",
        "DuB0jpfS39sx"
      ],
      "toc_visible": true
    },
    "kernelspec": {
      "name": "python3",
      "display_name": "Python 3"
    }
  },
  "cells": [
    {
      "cell_type": "markdown",
      "metadata": {
        "id": "9y5z7kJfuGga",
        "colab_type": "text"
      },
      "source": [
        "# **Class 7 - ML - Fast Ai**:  Building a Random Forest from Scratch"
      ]
    },
    {
      "cell_type": "code",
      "metadata": {
        "id": "X4ysYnl23jc4",
        "colab_type": "code",
        "colab": {}
      },
      "source": [
        "!pip install fastai==0.7.0 "
      ],
      "execution_count": 0,
      "outputs": []
    },
    {
      "cell_type": "code",
      "metadata": {
        "id": "IZb6c87nuEiE",
        "colab_type": "code",
        "colab": {}
      },
      "source": [
        "%load_ext autoreload\n",
        "%autoreload 2\n",
        "%matplotlib inline\n",
        "from fastai.imports import *\n",
        "from fastai.structured import *\n",
        "from pandas_summary import DataFrameSummary\n",
        "from sklearn.ensemble import RandomForestRegressor, RandomForestClassifier\n",
        "from IPython.display import display\n",
        "from sklearn import metrics"
      ],
      "execution_count": 0,
      "outputs": []
    },
    {
      "cell_type": "code",
      "metadata": {
        "id": "XHT2dtgx3uaU",
        "colab_type": "code",
        "colab": {}
      },
      "source": [
        "#create gdrive folder inside content\n",
        "from google.colab import drive\n",
        "drive.mount('/content/gdrive')\n",
        "\n",
        "#we create a kaggle folder \n",
        "!mkdir /root/.kaggle\n",
        "!mkdir ~/.kaggle\n",
        "\n",
        "#the mounted gdrive should containg the Kaggle json keys, otherwise we upload kaggle.json to colab inside content\n",
        "!cp /content/gdrive/My\\ Drive/kaggle.json ~/.kaggle/kaggle.json\n",
        "\n",
        "# go to kaggle to get permission to download the data set, then copy the link to upload\n",
        "!kaggle competitions download -c bluebook-for-bulldozers"
      ],
      "execution_count": 0,
      "outputs": []
    },
    {
      "cell_type": "code",
      "metadata": {
        "id": "APjTUhXj3vZ0",
        "colab_type": "code",
        "outputId": "ef901615-f410-46f9-c59d-c3607111954b",
        "colab": {
          "base_uri": "https://localhost:8080/",
          "height": 51
        }
      },
      "source": [
        "!unzip Train.zip"
      ],
      "execution_count": 0,
      "outputs": [
        {
          "output_type": "stream",
          "text": [
            "Archive:  Train.zip\n",
            "  inflating: Train.csv               \n"
          ],
          "name": "stdout"
        }
      ]
    },
    {
      "cell_type": "code",
      "metadata": {
        "id": "Dz3qXPS73z-f",
        "colab_type": "code",
        "outputId": "40762388-68d6-404b-956d-3cf4526b1bb7",
        "colab": {
          "base_uri": "https://localhost:8080/",
          "height": 1000
        }
      },
      "source": [
        "df_raw = pd.read_csv(f'Train.csv', low_memory=False, \n",
        "                     parse_dates=[\"saledate\"])\n",
        "df_raw.head"
      ],
      "execution_count": 0,
      "outputs": [
        {
          "output_type": "execute_result",
          "data": {
            "text/plain": [
              "<bound method NDFrame.head of         SalesID  SalePrice  ...  Differential_Type  Steering_Controls\n",
              "0       1139246      66000  ...           Standard       Conventional\n",
              "1       1139248      57000  ...           Standard       Conventional\n",
              "2       1139249      10000  ...                NaN                NaN\n",
              "3       1139251      38500  ...                NaN                NaN\n",
              "4       1139253      11000  ...                NaN                NaN\n",
              "5       1139255      26500  ...                NaN                NaN\n",
              "6       1139256      21000  ...                NaN                NaN\n",
              "7       1139261      27000  ...                NaN                NaN\n",
              "8       1139272      21500  ...                NaN                NaN\n",
              "9       1139275      65000  ...           Standard       Conventional\n",
              "10      1139278      24000  ...                NaN                NaN\n",
              "11      1139282      22500  ...                NaN                NaN\n",
              "12      1139283      36000  ...                NaN                NaN\n",
              "13      1139284      30500  ...                NaN                NaN\n",
              "14      1139290      28000  ...                NaN                NaN\n",
              "15      1139291      19000  ...                NaN                NaN\n",
              "16      1139292      13500  ...                NaN                NaN\n",
              "17      1139299       9500  ...                NaN                NaN\n",
              "18      1139301      12500  ...                NaN                NaN\n",
              "19      1139304      11500  ...                NaN                NaN\n",
              "20      1139311      41000  ...                NaN                NaN\n",
              "21      1139333      34500  ...                NaN                NaN\n",
              "22      1139344      26000  ...                NaN                NaN\n",
              "23      1139346      73000  ...           Standard       Conventional\n",
              "24      1139348      33000  ...                NaN                NaN\n",
              "25      1139351      12500  ...                NaN                NaN\n",
              "26      1139354      15500  ...                NaN                NaN\n",
              "27      1139356      53000  ...                NaN                NaN\n",
              "28      1139357      46000  ...                NaN                NaN\n",
              "29      1139358      89000  ...                NaN                NaN\n",
              "...         ...        ...  ...                ...                ...\n",
              "401095  6333259      10500  ...                NaN                NaN\n",
              "401096  6333260      10000  ...                NaN                NaN\n",
              "401097  6333261       8500  ...                NaN                NaN\n",
              "401098  6333262      10500  ...                NaN                NaN\n",
              "401099  6333263      11000  ...                NaN                NaN\n",
              "401100  6333264      10500  ...                NaN                NaN\n",
              "401101  6333270      10000  ...                NaN                NaN\n",
              "401102  6333272      10500  ...                NaN                NaN\n",
              "401103  6333273      12500  ...                NaN                NaN\n",
              "401104  6333275      10500  ...                NaN                NaN\n",
              "401105  6333276      10000  ...                NaN                NaN\n",
              "401106  6333278      10500  ...                NaN                NaN\n",
              "401107  6333279      12500  ...                NaN                NaN\n",
              "401108  6333280      10500  ...                NaN                NaN\n",
              "401109  6333281      10500  ...                NaN                NaN\n",
              "401110  6333282      10500  ...                NaN                NaN\n",
              "401111  6333283      10000  ...                NaN                NaN\n",
              "401112  6333284      10500  ...                NaN                NaN\n",
              "401113  6333285      10500  ...                NaN                NaN\n",
              "401114  6333287      12500  ...                NaN                NaN\n",
              "401115  6333290      10000  ...                NaN                NaN\n",
              "401116  6333302       8500  ...                NaN                NaN\n",
              "401117  6333307      10000  ...                NaN                NaN\n",
              "401118  6333311       9500  ...                NaN                NaN\n",
              "401119  6333335       8500  ...                NaN                NaN\n",
              "401120  6333336      10500  ...                NaN                NaN\n",
              "401121  6333337      11000  ...                NaN                NaN\n",
              "401122  6333338      11500  ...                NaN                NaN\n",
              "401123  6333341       9000  ...                NaN                NaN\n",
              "401124  6333342       7750  ...                NaN                NaN\n",
              "\n",
              "[401125 rows x 53 columns]>"
            ]
          },
          "metadata": {
            "tags": []
          },
          "execution_count": 5
        }
      ]
    },
    {
      "cell_type": "code",
      "metadata": {
        "id": "GenmgSR232qX",
        "colab_type": "code",
        "colab": {}
      },
      "source": [
        "#Root mean squared log error\n",
        "#We use the log to get the % of error as opposed to absolute error which doesn't make much sense\n",
        "\n",
        "df_raw.SalePrice = np.log(df_raw.SalePrice)"
      ],
      "execution_count": 0,
      "outputs": []
    },
    {
      "cell_type": "code",
      "metadata": {
        "id": "hwhycHDv33QN",
        "colab_type": "code",
        "outputId": "b2d6df56-a80b-42bd-934e-f5608f8b1b9f",
        "colab": {
          "base_uri": "https://localhost:8080/",
          "height": 119
        }
      },
      "source": [
        "#Transforming the sales date into \"year\", month, and day columns \n",
        "#We could have trends in time, such as higher price during a particular day\n",
        "add_datepart(df_raw, 'saledate')\n",
        "df_raw.saleYear.head()"
      ],
      "execution_count": 0,
      "outputs": [
        {
          "output_type": "execute_result",
          "data": {
            "text/plain": [
              "0    2006\n",
              "1    2004\n",
              "2    2004\n",
              "3    2011\n",
              "4    2009\n",
              "Name: saleYear, dtype: int64"
            ]
          },
          "metadata": {
            "tags": []
          },
          "execution_count": 7
        }
      ]
    },
    {
      "cell_type": "code",
      "metadata": {
        "id": "jqIYq1GZ3516",
        "colab_type": "code",
        "colab": {}
      },
      "source": [
        "#To use a Random Forest model, we need to convert everything into numeric values\n",
        "train_cats(df_raw)\n",
        "\n",
        "#We must take into account the hierarchy in some columns containing strings\n",
        "#It's important to keep an order for the model\n",
        "df_raw.UsageBand.cat.categories\n",
        "df_raw.UsageBand.cat.set_categories(['High', 'Medium', 'Low'], ordered=True, inplace=True)\n",
        "df_raw.UsageBand = df_raw.UsageBand.cat.codes\n"
      ],
      "execution_count": 0,
      "outputs": []
    },
    {
      "cell_type": "code",
      "metadata": {
        "id": "RZHLg0H34ChH",
        "colab_type": "code",
        "colab": {}
      },
      "source": [
        "def display_all(df):\n",
        "    with pd.option_context(\"display.max_rows\", 1000, \"display.max_columns\", 1000): \n",
        "        display(df)"
      ],
      "execution_count": 0,
      "outputs": []
    },
    {
      "cell_type": "code",
      "metadata": {
        "id": "H6jcwdrd4DSI",
        "colab_type": "code",
        "colab": {}
      },
      "source": [
        "#saving the file into directory \n",
        "os.makedirs('tmp', exist_ok=True)\n",
        "df_raw.to_feather('tmp/bulldozers-raw')\n",
        "\n",
        "#In the future we can simply read it from this fast format.\n",
        "df_raw = pd.read_feather('tmp/bulldozers-raw')"
      ],
      "execution_count": 0,
      "outputs": []
    },
    {
      "cell_type": "code",
      "metadata": {
        "id": "g4OL70WQcH5L",
        "colab_type": "code",
        "colab": {}
      },
      "source": [
        "df_raw = pd.read_feather('tmp/bulldozers-raw')"
      ],
      "execution_count": 0,
      "outputs": []
    },
    {
      "cell_type": "code",
      "metadata": {
        "id": "7uyXDgJF4Kss",
        "colab_type": "code",
        "colab": {}
      },
      "source": [
        "#Now we separate the columns into Dependent variable and independent variables\n",
        "df, y, nas = proc_df(df_raw, 'SalePrice')"
      ],
      "execution_count": 0,
      "outputs": []
    },
    {
      "cell_type": "code",
      "metadata": {
        "id": "AcrWqjyR4NDn",
        "colab_type": "code",
        "colab": {}
      },
      "source": [
        "#We check that all data is numeric and there is no missing value\n",
        "display_all(df.isnull().sum().sort_index()/len(df))\n",
        "display_all(df.describe(include='all').T)"
      ],
      "execution_count": 0,
      "outputs": []
    },
    {
      "cell_type": "code",
      "metadata": {
        "id": "wWK8-MVg5Mhv",
        "colab_type": "code",
        "colab": {}
      },
      "source": [
        "def split_vals(a,n): return a[:n].copy(), a[n:].copy()"
      ],
      "execution_count": 0,
      "outputs": []
    },
    {
      "cell_type": "code",
      "metadata": {
        "id": "qporJsi_5cbq",
        "colab_type": "code",
        "colab": {}
      },
      "source": [
        "df_trn, y_trn, nas = proc_df(df_raw, 'SalePrice')"
      ],
      "execution_count": 0,
      "outputs": []
    },
    {
      "cell_type": "code",
      "metadata": {
        "id": "dnTmQeMQ5iF_",
        "colab_type": "code",
        "colab": {}
      },
      "source": [
        "n_valid = 12000\n",
        "n_trn = len(df_trn)-n_valid\n",
        "X_train, X_valid = split_vals(df_trn, n_trn)\n",
        "y_train, y_valid = split_vals(y_trn, n_trn)\n",
        "raw_train, raw_valid = split_vals(df_raw, n_trn)"
      ],
      "execution_count": 0,
      "outputs": []
    },
    {
      "cell_type": "code",
      "metadata": {
        "id": "u6d44BFT5jLS",
        "colab_type": "code",
        "colab": {}
      },
      "source": [
        "x_sub = X_train[['YearMade', 'MachineHoursCurrentMeter']]"
      ],
      "execution_count": 0,
      "outputs": []
    },
    {
      "cell_type": "markdown",
      "metadata": {
        "id": "snYrYRq95r_4",
        "colab_type": "text"
      },
      "source": [
        "# **Starting Random Forest Implementation**"
      ]
    },
    {
      "cell_type": "code",
      "metadata": {
        "id": "o6EC6Xgl5vh2",
        "colab_type": "code",
        "colab": {}
      },
      "source": [
        "class TreeEnsemble():\n",
        "    def __init__(self, x, y, n_trees, sample_sz, min_leaf=5):\n",
        "        np.random.seed(42)\n",
        "        self.x,self.y,self.sample_sz,self.min_leaf = x,y,sample_sz,min_leaf\n",
        "        self.trees = [self.create_tree() for i in range(n_trees)]\n",
        "\n",
        "    def create_tree(self):\n",
        "        rnd_idxs = np.random.permutation(len(self.y))[:self.sample_sz] \n",
        "        return DecisionTree(self.x.iloc[rnd_idxs], self.y[rnd_idxs], min_leaf=self.min_leaf)  \n",
        "      #x is a PD dataframe, to go through it, we use iloc. y is a numpy, we can go through it simply by passing index\n",
        "        \n",
        "    def predict(self, x):\n",
        "        return np.mean([t.predict(x) for t in self.trees], axis=0)"
      ],
      "execution_count": 0,
      "outputs": []
    },
    {
      "cell_type": "code",
      "metadata": {
        "id": "6d3Pgjm9F1yk",
        "colab_type": "code",
        "outputId": "797ad6cb-9c96-4810-d158-aab7affe2963",
        "colab": {
          "base_uri": "https://localhost:8080/",
          "height": 68
        }
      },
      "source": [
        "z = np.random.permutation(5)\n",
        "print(z)\n",
        "print(z[3:])\n",
        "u = np.array([3, 33, 333, 33333, 44, 55, 66, 77])\n",
        "print(u[z])\n"
      ],
      "execution_count": 0,
      "outputs": [
        {
          "output_type": "stream",
          "text": [
            "[0 4 1 3 2]\n",
            "[3 2]\n",
            "[    3    44    33 33333   333]\n"
          ],
          "name": "stdout"
        }
      ]
    },
    {
      "cell_type": "code",
      "metadata": {
        "id": "4Qm6u3Vi515c",
        "colab_type": "code",
        "colab": {}
      },
      "source": [
        "class DecisionTree():\n",
        "    def __init__(self, x, y, idxs=None, min_leaf=5):\n",
        "        self.x,self.y,self.idxs,self.min_leaf = x,y,idxs,min_leaf"
      ],
      "execution_count": 0,
      "outputs": []
    },
    {
      "cell_type": "code",
      "metadata": {
        "id": "YugdzZEM54eN",
        "colab_type": "code",
        "colab": {}
      },
      "source": [
        "m = TreeEnsemble(X_train, y_train, n_trees=10, sample_sz=1000, min_leaf=3)"
      ],
      "execution_count": 0,
      "outputs": []
    },
    {
      "cell_type": "code",
      "metadata": {
        "id": "XRw8hSDI59XF",
        "colab_type": "code",
        "outputId": "5fb6b4a4-5a39-40cd-a7d4-b47f99f9b0c5",
        "colab": {
          "base_uri": "https://localhost:8080/",
          "height": 34
        }
      },
      "source": [
        "m.trees[0]"
      ],
      "execution_count": 0,
      "outputs": [
        {
          "output_type": "execute_result",
          "data": {
            "text/plain": [
              "<__main__.DecisionTree at 0x7f3bfbaef5c0>"
            ]
          },
          "metadata": {
            "tags": []
          },
          "execution_count": 20
        }
      ]
    },
    {
      "cell_type": "code",
      "metadata": {
        "id": "6YunN5yQ6CFJ",
        "colab_type": "code",
        "colab": {}
      },
      "source": [
        "class DecisionTree():\n",
        "    def __init__(self, x, y, idxs=None, min_leaf=5):\n",
        "        if idxs is None: idxs=np.arange(len(y))\n",
        "        self.x,self.y,self.idxs,self.min_leaf = x,y,idxs,min_leaf\n",
        "        self.n,self.c = len(idxs), x.shape[1]\n",
        "        self.val = np.mean(y[idxs])\n",
        "        self.score = float('inf')\n",
        "        self.find_varsplit()\n",
        "        \n",
        "    # This just does one decision; we'll make it recursive later\n",
        "    def find_varsplit(self):\n",
        "        for i in range(self.c): self.find_better_split(i)\n",
        "            \n",
        "    # We'll write this later!\n",
        "    def find_better_split(self, var_idx): pass\n",
        "    \n",
        "    @property\n",
        "    def split_name(self): return self.x.columns[self.var_idx]\n",
        "    \n",
        "    @property\n",
        "    def split_col(self): return self.x.values[self.idxs,self.var_idx]\n",
        "\n",
        "    @property\n",
        "    def is_leaf(self): return self.score == float('inf')\n",
        "    \n",
        "    def __repr__(self):\n",
        "        s = f'n: {self.n}; val:{self.val}'\n",
        "        if not self.is_leaf:\n",
        "            s += f'; score:{self.score}; split:{self.split}; var:{self.split_name}'\n",
        "        return s"
      ],
      "execution_count": 0,
      "outputs": []
    },
    {
      "cell_type": "code",
      "metadata": {
        "id": "DmPUZk5ZkWHb",
        "colab_type": "code",
        "outputId": "79447a38-c2f9-4241-f315-2811234931d3",
        "colab": {
          "base_uri": "https://localhost:8080/",
          "height": 51
        }
      },
      "source": [
        "b = np.array([[1, 2, 3, 4], [1, 2, 3, 4], [1, 2, 3, 4]])\n",
        "print(b.shape)\n",
        "print(b.shape[0])"
      ],
      "execution_count": 0,
      "outputs": [
        {
          "output_type": "stream",
          "text": [
            "(3, 4)\n",
            "3\n"
          ],
          "name": "stdout"
        }
      ]
    },
    {
      "cell_type": "code",
      "metadata": {
        "id": "hQ5oV5gvH-Ad",
        "colab_type": "code",
        "colab": {}
      },
      "source": [
        "m.trees[0].idxs"
      ],
      "execution_count": 0,
      "outputs": []
    },
    {
      "cell_type": "code",
      "metadata": {
        "id": "WkAa8urOe0TW",
        "colab_type": "code",
        "outputId": "60e263a4-4f57-4b40-8db9-2804ee0d74cd",
        "colab": {
          "base_uri": "https://localhost:8080/",
          "height": 34
        }
      },
      "source": [
        "idxs=np.arange(10)\n",
        "print(idxs)\n",
        "#print(type (y_train))\n",
        "#print(type(y_train[idxs]))"
      ],
      "execution_count": 0,
      "outputs": [
        {
          "output_type": "stream",
          "text": [
            "[0 1 2 3 4 5 6 7 8 9]\n"
          ],
          "name": "stdout"
        }
      ]
    },
    {
      "cell_type": "markdown",
      "metadata": {
        "id": "xE1G1zCjITH1",
        "colab_type": "text"
      },
      "source": [
        "# **Single branch**\n",
        "\n",
        "Find best split given variable"
      ]
    },
    {
      "cell_type": "code",
      "metadata": {
        "id": "bALGYlNCIVux",
        "colab_type": "code",
        "outputId": "c88ee8d3-0ad8-406c-9224-e2dd341877c4",
        "colab": {
          "base_uri": "https://localhost:8080/",
          "height": 34
        }
      },
      "source": [
        "ens = TreeEnsemble(x_sub, y_train, 1, 1000)\n",
        "tree = ens.trees[0]\n",
        "x_samp,y_samp = tree.x, tree.y\n",
        "x_samp.columns"
      ],
      "execution_count": 0,
      "outputs": [
        {
          "output_type": "execute_result",
          "data": {
            "text/plain": [
              "Index(['YearMade', 'MachineHoursCurrentMeter'], dtype='object')"
            ]
          },
          "metadata": {
            "tags": []
          },
          "execution_count": 75
        }
      ]
    },
    {
      "cell_type": "code",
      "metadata": {
        "id": "2koXi4KBIrCS",
        "colab_type": "code",
        "outputId": "1a53214e-55d6-4931-89e8-66f305e9cc41",
        "colab": {
          "base_uri": "https://localhost:8080/",
          "height": 34
        }
      },
      "source": [
        "tree"
      ],
      "execution_count": 0,
      "outputs": [
        {
          "output_type": "execute_result",
          "data": {
            "text/plain": [
              "n: 1000; val:10.079014121552744"
            ]
          },
          "metadata": {
            "tags": []
          },
          "execution_count": 76
        }
      ]
    },
    {
      "cell_type": "code",
      "metadata": {
        "id": "0jg0qINAIvsP",
        "colab_type": "code",
        "outputId": "6cf396f3-19d1-4b9c-b5d9-227a26d832da",
        "colab": {
          "base_uri": "https://localhost:8080/",
          "height": 245
        }
      },
      "source": [
        "m = RandomForestRegressor(n_estimators=1, max_depth=1, bootstrap=False)\n",
        "m.fit(x_samp, y_samp)\n",
        "draw_tree(m.estimators_[0], x_samp, precision=2)"
      ],
      "execution_count": 0,
      "outputs": [
        {
          "output_type": "display_data",
          "data": {
            "text/plain": [
              "<graphviz.files.Source at 0x7f3c1ae85e80>"
            ],
            "image/svg+xml": "<?xml version=\"1.0\" encoding=\"UTF-8\" standalone=\"no\"?>\n<!DOCTYPE svg PUBLIC \"-//W3C//DTD SVG 1.1//EN\"\n \"http://www.w3.org/Graphics/SVG/1.1/DTD/svg11.dtd\">\n<!-- Generated by graphviz version 2.40.1 (20161225.0304)\n -->\n<!-- Title: Tree Pages: 1 -->\n<svg width=\"275pt\" height=\"168pt\"\n viewBox=\"0.00 0.00 275.00 168.20\" xmlns=\"http://www.w3.org/2000/svg\" xmlns:xlink=\"http://www.w3.org/1999/xlink\">\n<g id=\"graph0\" class=\"graph\" transform=\"scale(1 1) rotate(0) translate(4 164.2)\">\n<title>Tree</title>\n<polygon fill=\"#ffffff\" stroke=\"transparent\" points=\"-4,4 -4,-164.2 271,-164.2 271,4 -4,4\"/>\n<!-- 0 -->\n<g id=\"node1\" class=\"node\">\n<title>0</title>\n<polygon fill=\"#e99558\" stroke=\"#000000\" points=\"130.5,-113.2363 -.5,-113.2363 -.5,-45.2363 130.5,-45.2363 130.5,-113.2363\"/>\n<text text-anchor=\"start\" x=\"7.5\" y=\"-98.0363\" font-family=\"Times,serif\" font-size=\"14.00\" fill=\"#000000\">YearMade ≤ 1974.5</text>\n<text text-anchor=\"start\" x=\"32.5\" y=\"-83.0363\" font-family=\"Times,serif\" font-size=\"14.00\" fill=\"#000000\">mse = 0.47</text>\n<text text-anchor=\"start\" x=\"19.5\" y=\"-68.0363\" font-family=\"Times,serif\" font-size=\"14.00\" fill=\"#000000\">samples = 1000</text>\n<text text-anchor=\"start\" x=\"24.5\" y=\"-53.0363\" font-family=\"Times,serif\" font-size=\"14.00\" fill=\"#000000\">value = 10.08</text>\n</g>\n<!-- 1 -->\n<g id=\"node2\" class=\"node\">\n<title>1</title>\n<polygon fill=\"#ffffff\" stroke=\"#000000\" points=\"267,-152.7363 167,-152.7363 167,-99.7363 267,-99.7363 267,-152.7363\"/>\n<text text-anchor=\"start\" x=\"184.5\" y=\"-137.5363\" font-family=\"Times,serif\" font-size=\"14.00\" fill=\"#000000\">mse = 0.26</text>\n<text text-anchor=\"start\" x=\"175\" y=\"-122.5363\" font-family=\"Times,serif\" font-size=\"14.00\" fill=\"#000000\">samples = 159</text>\n<text text-anchor=\"start\" x=\"180.5\" y=\"-107.5363\" font-family=\"Times,serif\" font-size=\"14.00\" fill=\"#000000\">value = 9.66</text>\n</g>\n<!-- 0&#45;&gt;1 -->\n<g id=\"edge1\" class=\"edge\">\n<title>0&#45;&gt;1</title>\n<path fill=\"none\" stroke=\"#000000\" d=\"M130.7854,-99.5778C139.5296,-102.2816 148.4576,-105.0423 157.0949,-107.713\"/>\n<polygon fill=\"#000000\" stroke=\"#000000\" points=\"156.1102,-111.072 166.6979,-110.6823 158.1781,-104.3844 156.1102,-111.072\"/>\n<text text-anchor=\"middle\" x=\"144.587\" y=\"-118.6489\" font-family=\"Times,serif\" font-size=\"14.00\" fill=\"#000000\">True</text>\n</g>\n<!-- 2 -->\n<g id=\"node3\" class=\"node\">\n<title>2</title>\n<polygon fill=\"#e58139\" stroke=\"#000000\" points=\"267,-60.7363 167,-60.7363 167,-7.7363 267,-7.7363 267,-60.7363\"/>\n<text text-anchor=\"start\" x=\"184.5\" y=\"-45.5363\" font-family=\"Times,serif\" font-size=\"14.00\" fill=\"#000000\">mse = 0.47</text>\n<text text-anchor=\"start\" x=\"175\" y=\"-30.5363\" font-family=\"Times,serif\" font-size=\"14.00\" fill=\"#000000\">samples = 841</text>\n<text text-anchor=\"start\" x=\"176.5\" y=\"-15.5363\" font-family=\"Times,serif\" font-size=\"14.00\" fill=\"#000000\">value = 10.16</text>\n</g>\n<!-- 0&#45;&gt;2 -->\n<g id=\"edge2\" class=\"edge\">\n<title>0&#45;&gt;2</title>\n<path fill=\"none\" stroke=\"#000000\" d=\"M130.7854,-59.7604C139.5296,-57.1716 148.4576,-54.5285 157.0949,-51.9714\"/>\n<polygon fill=\"#000000\" stroke=\"#000000\" points=\"158.1028,-55.3232 166.6979,-49.1284 156.1157,-48.6112 158.1028,-55.3232\"/>\n<text text-anchor=\"middle\" x=\"144.7292\" y=\"-33.4961\" font-family=\"Times,serif\" font-size=\"14.00\" fill=\"#000000\">False</text>\n</g>\n</g>\n</svg>\n"
          },
          "metadata": {
            "tags": []
          }
        }
      ]
    },
    {
      "cell_type": "code",
      "metadata": {
        "id": "FUBr_wmMzySI",
        "colab_type": "code",
        "colab": {}
      },
      "source": [
        "def find_better_split(self, var_idx):\n",
        "    x,y = self.x.values[self.idxs,var_idx], self.y[self.idxs]\n",
        "\n",
        "    for i in range(self.n):\n",
        "        lhs = x<=x[i]\n",
        "        rhs = x>x[i]\n",
        "        if rhs.sum()<self.min_leaf or lhs.sum()<self.min_leaf: continue\n",
        "        lhs_std = y[lhs].std()\n",
        "        rhs_std = y[rhs].std()\n",
        "        curr_score = lhs_std*lhs.sum() + rhs_std*rhs.sum()\n",
        "        if curr_score<self.score: \n",
        "            self.var_idx,self.score,self.split = var_idx,curr_score,x[i]"
      ],
      "execution_count": 0,
      "outputs": []
    },
    {
      "cell_type": "code",
      "metadata": {
        "id": "LOmmf2GE0ZcJ",
        "colab_type": "code",
        "outputId": "d0eef4ed-1026-4c25-b2ca-b344e89cd8ac",
        "colab": {
          "base_uri": "https://localhost:8080/",
          "height": 51
        }
      },
      "source": [
        "%timeit find_better_split(tree,1)\n",
        "tree"
      ],
      "execution_count": 0,
      "outputs": [
        {
          "output_type": "stream",
          "text": [
            "10 loops, best of 3: 69.8 ms per loop\n"
          ],
          "name": "stdout"
        },
        {
          "output_type": "execute_result",
          "data": {
            "text/plain": [
              "n: 1000; val:10.079014121552744; score:681.0184057251435; split:3744.0; var:MachineHoursCurrentMeter"
            ]
          },
          "metadata": {
            "tags": []
          },
          "execution_count": 78
        }
      ]
    },
    {
      "cell_type": "code",
      "metadata": {
        "id": "cZePdbWe1BAP",
        "colab_type": "code",
        "outputId": "d82155c0-2158-49c9-98f6-5d9b95690af3",
        "colab": {
          "base_uri": "https://localhost:8080/",
          "height": 34
        }
      },
      "source": [
        "find_better_split(tree,0); tree"
      ],
      "execution_count": 0,
      "outputs": [
        {
          "output_type": "execute_result",
          "data": {
            "text/plain": [
              "n: 1000; val:10.079014121552744; score:658.5510186055949; split:1974.0; var:YearMade"
            ]
          },
          "metadata": {
            "tags": []
          },
          "execution_count": 79
        }
      ]
    },
    {
      "cell_type": "markdown",
      "metadata": {
        "id": "fjirZ6tb3WjZ",
        "colab_type": "text"
      },
      "source": [
        "# **Speeding things up**"
      ]
    },
    {
      "cell_type": "code",
      "metadata": {
        "id": "ggqFP3Oc3p7D",
        "colab_type": "code",
        "colab": {}
      },
      "source": [
        "tree = TreeEnsemble(x_sub, y_train, 1, 1000).trees[0]"
      ],
      "execution_count": 0,
      "outputs": []
    },
    {
      "cell_type": "code",
      "metadata": {
        "id": "lRRvKcg93EZX",
        "colab_type": "code",
        "colab": {}
      },
      "source": [
        "def std_agg(cnt, s1, s2): return math.sqrt((s2/cnt) - (s1/cnt)**2)\n",
        "\n",
        "def find_better_split(self, var_idx):\n",
        "    x,y = self.x.values[self.idxs,var_idx], self.y[self.idxs]\n",
        "    \n",
        "    sort_idx = np.argsort(x)\n",
        "    sort_y,sort_x = y[sort_idx], x[sort_idx]\n",
        "    rhs_cnt,rhs_sum,rhs_sum2 = self.n, sort_y.sum(), (sort_y**2).sum()\n",
        "    lhs_cnt,lhs_sum,lhs_sum2 = 0,0.,0.\n",
        "\n",
        "    for i in range(0,self.n-self.min_leaf):\n",
        "        xi,yi = sort_x[i],sort_y[i]\n",
        "        lhs_cnt += 1; rhs_cnt -= 1\n",
        "        lhs_sum += yi; rhs_sum -= yi\n",
        "        lhs_sum2 += yi**2; rhs_sum2 -= yi**2\n",
        "        if i<self.min_leaf-1 or xi==sort_x[i+1]:\n",
        "            continue\n",
        "            \n",
        "        lhs_std = std_agg(lhs_cnt, lhs_sum, lhs_sum2)\n",
        "        rhs_std = std_agg(rhs_cnt, rhs_sum, rhs_sum2)\n",
        "        curr_score = lhs_std*lhs_cnt + rhs_std*rhs_cnt\n",
        "        if curr_score<self.score: \n",
        "            self.var_idx,self.score,self.split = var_idx,curr_score,xi"
      ],
      "execution_count": 0,
      "outputs": []
    },
    {
      "cell_type": "code",
      "metadata": {
        "id": "_P7OpyNI3Hhx",
        "colab_type": "code",
        "outputId": "28f4a77e-43db-4944-ff88-5ef810ec4719",
        "colab": {
          "base_uri": "https://localhost:8080/",
          "height": 51
        }
      },
      "source": [
        "%timeit find_better_split(tree,1)\n",
        "tree"
      ],
      "execution_count": 0,
      "outputs": [
        {
          "output_type": "stream",
          "text": [
            "100 loops, best of 3: 2.16 ms per loop\n"
          ],
          "name": "stdout"
        },
        {
          "output_type": "execute_result",
          "data": {
            "text/plain": [
              "n: 1000; val:10.079014121552744; score:681.0184057251353; split:3744.0; var:MachineHoursCurrentMeter"
            ]
          },
          "metadata": {
            "tags": []
          },
          "execution_count": 84
        }
      ]
    },
    {
      "cell_type": "code",
      "metadata": {
        "id": "02bghv673s2x",
        "colab_type": "code",
        "outputId": "a567a4bc-0c9c-4603-d2bd-8d8aaf2a1adb",
        "colab": {
          "base_uri": "https://localhost:8080/",
          "height": 51
        }
      },
      "source": [
        "%timeit find_better_split(tree,0)\n",
        "tree"
      ],
      "execution_count": 0,
      "outputs": [
        {
          "output_type": "stream",
          "text": [
            "100 loops, best of 3: 2.14 ms per loop\n"
          ],
          "name": "stdout"
        },
        {
          "output_type": "execute_result",
          "data": {
            "text/plain": [
              "n: 1000; val:10.079014121552744; score:658.5510186055565; split:1974.0; var:YearMade"
            ]
          },
          "metadata": {
            "tags": []
          },
          "execution_count": 85
        }
      ]
    },
    {
      "cell_type": "code",
      "metadata": {
        "id": "Qwmk25S930J3",
        "colab_type": "code",
        "colab": {}
      },
      "source": [
        "DecisionTree.find_better_split = find_better_split"
      ],
      "execution_count": 0,
      "outputs": []
    },
    {
      "cell_type": "code",
      "metadata": {
        "id": "-raFWqF_3218",
        "colab_type": "code",
        "outputId": "3cbfec42-64eb-4a49-9d3f-a629b726ecd3",
        "colab": {
          "base_uri": "https://localhost:8080/",
          "height": 34
        }
      },
      "source": [
        "tree = TreeEnsemble(x_sub, y_train, 1, 1000).trees[0]; tree"
      ],
      "execution_count": 0,
      "outputs": [
        {
          "output_type": "execute_result",
          "data": {
            "text/plain": [
              "n: 1000; val:10.079014121552744; score:658.5510186055565; split:1974.0; var:YearMade"
            ]
          },
          "metadata": {
            "tags": []
          },
          "execution_count": 87
        }
      ]
    },
    {
      "cell_type": "markdown",
      "metadata": {
        "id": "DuB0jpfS39sx",
        "colab_type": "text"
      },
      "source": [
        "# **Full single tree**"
      ]
    },
    {
      "cell_type": "code",
      "metadata": {
        "id": "SzvFj1nx3-yV",
        "colab_type": "code",
        "outputId": "611da2ff-0f92-459d-ce9a-63563d3dbbf5",
        "colab": {
          "base_uri": "https://localhost:8080/",
          "height": 461
        }
      },
      "source": [
        "m = RandomForestRegressor(n_estimators=1, max_depth=2, bootstrap=False)\n",
        "m.fit(x_samp, y_samp)\n",
        "draw_tree(m.estimators_[0], x_samp, precision=2)"
      ],
      "execution_count": 0,
      "outputs": [
        {
          "output_type": "display_data",
          "data": {
            "text/plain": [
              "<graphviz.files.Source at 0x7f3bfcaba588>"
            ],
            "image/svg+xml": "<?xml version=\"1.0\" encoding=\"UTF-8\" standalone=\"no\"?>\n<!DOCTYPE svg PUBLIC \"-//W3C//DTD SVG 1.1//EN\"\n \"http://www.w3.org/Graphics/SVG/1.1/DTD/svg11.dtd\">\n<!-- Generated by graphviz version 2.40.1 (20161225.0304)\n -->\n<!-- Title: Tree Pages: 1 -->\n<svg width=\"545pt\" height=\"330pt\"\n viewBox=\"0.00 0.00 545.00 330.20\" xmlns=\"http://www.w3.org/2000/svg\" xmlns:xlink=\"http://www.w3.org/1999/xlink\">\n<g id=\"graph0\" class=\"graph\" transform=\"scale(1 1) rotate(0) translate(4 326.2)\">\n<title>Tree</title>\n<polygon fill=\"#ffffff\" stroke=\"transparent\" points=\"-4,4 -4,-326.2 541,-326.2 541,4 -4,4\"/>\n<!-- 0 -->\n<g id=\"node1\" class=\"node\">\n<title>0</title>\n<polygon fill=\"#f4c8a8\" stroke=\"#000000\" points=\"130.5,-196.6233 -.5,-196.6233 -.5,-128.6233 130.5,-128.6233 130.5,-196.6233\"/>\n<text text-anchor=\"start\" x=\"7.5\" y=\"-181.4233\" font-family=\"Times,serif\" font-size=\"14.00\" fill=\"#000000\">YearMade ≤ 1974.5</text>\n<text text-anchor=\"start\" x=\"32.5\" y=\"-166.4233\" font-family=\"Times,serif\" font-size=\"14.00\" fill=\"#000000\">mse = 0.47</text>\n<text text-anchor=\"start\" x=\"19.5\" y=\"-151.4233\" font-family=\"Times,serif\" font-size=\"14.00\" fill=\"#000000\">samples = 1000</text>\n<text text-anchor=\"start\" x=\"24.5\" y=\"-136.4233\" font-family=\"Times,serif\" font-size=\"14.00\" fill=\"#000000\">value = 10.08</text>\n</g>\n<!-- 1 -->\n<g id=\"node2\" class=\"node\">\n<title>1</title>\n<polygon fill=\"#fefaf7\" stroke=\"#000000\" points=\"401,-248.6233 167,-248.6233 167,-180.6233 401,-180.6233 401,-248.6233\"/>\n<text text-anchor=\"start\" x=\"175\" y=\"-233.4233\" font-family=\"Times,serif\" font-size=\"14.00\" fill=\"#000000\">MachineHoursCurrentMeter ≤ 2956.5</text>\n<text text-anchor=\"start\" x=\"251.5\" y=\"-218.4233\" font-family=\"Times,serif\" font-size=\"14.00\" fill=\"#000000\">mse = 0.26</text>\n<text text-anchor=\"start\" x=\"242\" y=\"-203.4233\" font-family=\"Times,serif\" font-size=\"14.00\" fill=\"#000000\">samples = 159</text>\n<text text-anchor=\"start\" x=\"247.5\" y=\"-188.4233\" font-family=\"Times,serif\" font-size=\"14.00\" fill=\"#000000\">value = 9.66</text>\n</g>\n<!-- 0&#45;&gt;1 -->\n<g id=\"edge1\" class=\"edge\">\n<title>0&#45;&gt;1</title>\n<path fill=\"none\" stroke=\"#000000\" d=\"M130.7072,-178.225C139.127,-180.2243 147.9604,-182.3217 156.956,-184.4576\"/>\n<polygon fill=\"#000000\" stroke=\"#000000\" points=\"156.2308,-187.8827 166.7689,-186.7876 157.848,-181.072 156.2308,-187.8827\"/>\n<text text-anchor=\"middle\" x=\"145.4855\" y=\"-196.2032\" font-family=\"Times,serif\" font-size=\"14.00\" fill=\"#000000\">True</text>\n</g>\n<!-- 4 -->\n<g id=\"node5\" class=\"node\">\n<title>4</title>\n<polygon fill=\"#f2be99\" stroke=\"#000000\" points=\"349.5,-145.6233 218.5,-145.6233 218.5,-77.6233 349.5,-77.6233 349.5,-145.6233\"/>\n<text text-anchor=\"start\" x=\"226.5\" y=\"-130.4233\" font-family=\"Times,serif\" font-size=\"14.00\" fill=\"#000000\">YearMade ≤ 2005.5</text>\n<text text-anchor=\"start\" x=\"251.5\" y=\"-115.4233\" font-family=\"Times,serif\" font-size=\"14.00\" fill=\"#000000\">mse = 0.47</text>\n<text text-anchor=\"start\" x=\"242\" y=\"-100.4233\" font-family=\"Times,serif\" font-size=\"14.00\" fill=\"#000000\">samples = 841</text>\n<text text-anchor=\"start\" x=\"243.5\" y=\"-85.4233\" font-family=\"Times,serif\" font-size=\"14.00\" fill=\"#000000\">value = 10.16</text>\n</g>\n<!-- 0&#45;&gt;4 -->\n<g id=\"edge4\" class=\"edge\">\n<title>0&#45;&gt;4</title>\n<path fill=\"none\" stroke=\"#000000\" d=\"M130.7072,-147.3217C155.1772,-141.6232 183.1405,-135.1112 208.4258,-129.2228\"/>\n<polygon fill=\"#000000\" stroke=\"#000000\" points=\"209.3936,-132.5912 218.3392,-126.9142 207.8059,-125.7736 209.3936,-132.5912\"/>\n<text text-anchor=\"middle\" x=\"197.1127\" y=\"-110.0067\" font-family=\"Times,serif\" font-size=\"14.00\" fill=\"#000000\">False</text>\n</g>\n<!-- 2 -->\n<g id=\"node3\" class=\"node\">\n<title>2</title>\n<polygon fill=\"#ffffff\" stroke=\"#000000\" points=\"537,-317.1233 437,-317.1233 437,-264.1233 537,-264.1233 537,-317.1233\"/>\n<text text-anchor=\"start\" x=\"454.5\" y=\"-301.9233\" font-family=\"Times,serif\" font-size=\"14.00\" fill=\"#000000\">mse = 0.23</text>\n<text text-anchor=\"start\" x=\"445\" y=\"-286.9233\" font-family=\"Times,serif\" font-size=\"14.00\" fill=\"#000000\">samples = 150</text>\n<text text-anchor=\"start\" x=\"450.5\" y=\"-271.9233\" font-family=\"Times,serif\" font-size=\"14.00\" fill=\"#000000\">value = 9.62</text>\n</g>\n<!-- 1&#45;&gt;2 -->\n<g id=\"edge2\" class=\"edge\">\n<title>1&#45;&gt;2</title>\n<path fill=\"none\" stroke=\"#000000\" d=\"M375.1085,-248.7329C392.8185,-255.3633 410.955,-262.1533 427.3307,-268.2841\"/>\n<polygon fill=\"#000000\" stroke=\"#000000\" points=\"426.1601,-271.583 436.7525,-271.8115 428.6145,-265.0274 426.1601,-271.583\"/>\n</g>\n<!-- 3 -->\n<g id=\"node4\" class=\"node\">\n<title>3</title>\n<polygon fill=\"#eda774\" stroke=\"#000000\" points=\"535.5,-232.1233 438.5,-232.1233 438.5,-179.1233 535.5,-179.1233 535.5,-232.1233\"/>\n<text text-anchor=\"start\" x=\"454.5\" y=\"-216.9233\" font-family=\"Times,serif\" font-size=\"14.00\" fill=\"#000000\">mse = 0.23</text>\n<text text-anchor=\"start\" x=\"452.5\" y=\"-201.9233\" font-family=\"Times,serif\" font-size=\"14.00\" fill=\"#000000\">samples = 9</text>\n<text text-anchor=\"start\" x=\"446.5\" y=\"-186.9233\" font-family=\"Times,serif\" font-size=\"14.00\" fill=\"#000000\">value = 10.35</text>\n</g>\n<!-- 1&#45;&gt;3 -->\n<g id=\"edge3\" class=\"edge\">\n<title>1&#45;&gt;3</title>\n<path fill=\"none\" stroke=\"#000000\" d=\"M401.204,-209.4271C410.4536,-209.017 419.5249,-208.6148 428.1005,-208.2346\"/>\n<polygon fill=\"#000000\" stroke=\"#000000\" points=\"428.4586,-211.7223 438.2937,-207.7827 428.1485,-204.7292 428.4586,-211.7223\"/>\n</g>\n<!-- 5 -->\n<g id=\"node6\" class=\"node\">\n<title>5</title>\n<polygon fill=\"#f2c09d\" stroke=\"#000000\" points=\"537,-143.1233 437,-143.1233 437,-90.1233 537,-90.1233 537,-143.1233\"/>\n<text text-anchor=\"start\" x=\"454.5\" y=\"-127.9233\" font-family=\"Times,serif\" font-size=\"14.00\" fill=\"#000000\">mse = 0.46</text>\n<text text-anchor=\"start\" x=\"445\" y=\"-112.9233\" font-family=\"Times,serif\" font-size=\"14.00\" fill=\"#000000\">samples = 813</text>\n<text text-anchor=\"start\" x=\"446.5\" y=\"-97.9233\" font-family=\"Times,serif\" font-size=\"14.00\" fill=\"#000000\">value = 10.14</text>\n</g>\n<!-- 4&#45;&gt;5 -->\n<g id=\"edge5\" class=\"edge\">\n<title>4&#45;&gt;5</title>\n<path fill=\"none\" stroke=\"#000000\" d=\"M349.6279,-113.2398C374.3595,-113.8489 402.3519,-114.5384 426.5853,-115.1353\"/>\n<polygon fill=\"#000000\" stroke=\"#000000\" points=\"426.6372,-118.6375 436.7204,-115.3849 426.8097,-111.6397 426.6372,-118.6375\"/>\n</g>\n<!-- 6 -->\n<g id=\"node7\" class=\"node\">\n<title>6</title>\n<polygon fill=\"#e58139\" stroke=\"#000000\" points=\"535.5,-58.1233 438.5,-58.1233 438.5,-5.1233 535.5,-5.1233 535.5,-58.1233\"/>\n<text text-anchor=\"start\" x=\"454.5\" y=\"-42.9233\" font-family=\"Times,serif\" font-size=\"14.00\" fill=\"#000000\">mse = 0.38</text>\n<text text-anchor=\"start\" x=\"449\" y=\"-27.9233\" font-family=\"Times,serif\" font-size=\"14.00\" fill=\"#000000\">samples = 28</text>\n<text text-anchor=\"start\" x=\"446.5\" y=\"-12.9233\" font-family=\"Times,serif\" font-size=\"14.00\" fill=\"#000000\">value = 10.67</text>\n</g>\n<!-- 4&#45;&gt;6 -->\n<g id=\"edge6\" class=\"edge\">\n<title>4&#45;&gt;6</title>\n<path fill=\"none\" stroke=\"#000000\" d=\"M349.6279,-85.7601C375.0916,-75.7252 404.0121,-64.3279 428.7274,-54.5879\"/>\n<polygon fill=\"#000000\" stroke=\"#000000\" points=\"430.3092,-57.7266 438.3296,-50.8038 427.7427,-51.214 430.3092,-57.7266\"/>\n</g>\n</g>\n</svg>\n"
          },
          "metadata": {
            "tags": []
          }
        }
      ]
    },
    {
      "cell_type": "code",
      "metadata": {
        "id": "niMmTM0o5WMX",
        "colab_type": "code",
        "colab": {}
      },
      "source": [
        "def find_varsplit(self):\n",
        "    for i in range(self.c): self.find_better_split(i)\n",
        "    if self.is_leaf: return\n",
        "    x = self.split_col\n",
        "    lhs = np.nonzero(x<=self.split)[0]\n",
        "    rhs = np.nonzero(x>self.split)[0]\n",
        "    self.lhs = DecisionTree(self.x, self.y, self.idxs[lhs])\n",
        "    self.rhs = DecisionTree(self.x, self.y, self.idxs[rhs])"
      ],
      "execution_count": 0,
      "outputs": []
    },
    {
      "cell_type": "code",
      "metadata": {
        "id": "UzTmyLZe5Y7p",
        "colab_type": "code",
        "colab": {}
      },
      "source": [
        "DecisionTree.find_varsplit = find_varsplit"
      ],
      "execution_count": 0,
      "outputs": []
    },
    {
      "cell_type": "code",
      "metadata": {
        "id": "3iWhbPa55bpj",
        "colab_type": "code",
        "outputId": "70e472ba-3b1a-4e1b-f4d4-0e331ca20303",
        "colab": {
          "base_uri": "https://localhost:8080/",
          "height": 34
        }
      },
      "source": [
        "tree = TreeEnsemble(x_sub, y_train, 1, 1000).trees[0]; tree"
      ],
      "execution_count": 0,
      "outputs": [
        {
          "output_type": "execute_result",
          "data": {
            "text/plain": [
              "n: 1000; val:10.079014121552744; score:658.5510186055565; split:1974.0; var:YearMade"
            ]
          },
          "metadata": {
            "tags": []
          },
          "execution_count": 91
        }
      ]
    },
    {
      "cell_type": "code",
      "metadata": {
        "id": "FENYih5C5fzT",
        "colab_type": "code",
        "outputId": "0e88a512-566f-40ac-98c8-553c4a1627d9",
        "colab": {
          "base_uri": "https://localhost:8080/",
          "height": 34
        }
      },
      "source": [
        "tree.lhs"
      ],
      "execution_count": 0,
      "outputs": [
        {
          "output_type": "execute_result",
          "data": {
            "text/plain": [
              "n: 159; val:9.660892662981706; score:76.82696888346362; split:2800.0; var:MachineHoursCurrentMeter"
            ]
          },
          "metadata": {
            "tags": []
          },
          "execution_count": 92
        }
      ]
    },
    {
      "cell_type": "code",
      "metadata": {
        "id": "5vGH6g4X5kAw",
        "colab_type": "code",
        "outputId": "8481a97a-1a30-49c8-ab6e-21f82cc1e71e",
        "colab": {
          "base_uri": "https://localhost:8080/",
          "height": 34
        }
      },
      "source": [
        "tree.rhs"
      ],
      "execution_count": 0,
      "outputs": [
        {
          "output_type": "execute_result",
          "data": {
            "text/plain": [
              "n: 841; val:10.158064432982941; score:571.4803525045031; split:2005.0; var:YearMade"
            ]
          },
          "metadata": {
            "tags": []
          },
          "execution_count": 93
        }
      ]
    },
    {
      "cell_type": "code",
      "metadata": {
        "id": "Aj4my9oY5ol4",
        "colab_type": "code",
        "outputId": "ada9b3b0-e374-4138-a2a4-27bae3a39c9a",
        "colab": {
          "base_uri": "https://localhost:8080/",
          "height": 34
        }
      },
      "source": [
        "tree.lhs.lhs"
      ],
      "execution_count": 0,
      "outputs": [
        {
          "output_type": "execute_result",
          "data": {
            "text/plain": [
              "n: 150; val:9.619280538108496; score:71.15906938383463; split:1000.0; var:YearMade"
            ]
          },
          "metadata": {
            "tags": []
          },
          "execution_count": 94
        }
      ]
    },
    {
      "cell_type": "code",
      "metadata": {
        "id": "av0mBWhQ5sEa",
        "colab_type": "code",
        "outputId": "89425322-ee7a-480d-835b-28908d291d47",
        "colab": {
          "base_uri": "https://localhost:8080/",
          "height": 34
        }
      },
      "source": [
        "tree.lhs.lhs"
      ],
      "execution_count": 0,
      "outputs": [
        {
          "output_type": "execute_result",
          "data": {
            "text/plain": [
              "n: 150; val:9.619280538108496; score:71.15906938383463; split:1000.0; var:YearMade"
            ]
          },
          "metadata": {
            "tags": []
          },
          "execution_count": 95
        }
      ]
    },
    {
      "cell_type": "markdown",
      "metadata": {
        "id": "oSppSDDq5u_N",
        "colab_type": "text"
      },
      "source": [
        "# **Predictions**"
      ]
    },
    {
      "cell_type": "code",
      "metadata": {
        "id": "Rs6G9wFZ5wAx",
        "colab_type": "code",
        "colab": {}
      },
      "source": [
        "cols = ['MachineID', 'YearMade', 'MachineHoursCurrentMeter', 'ProductSize', 'Enclosure',\n",
        "        'Coupler_System', 'saleYear']"
      ],
      "execution_count": 0,
      "outputs": []
    },
    {
      "cell_type": "code",
      "metadata": {
        "id": "jdzwgRtJ54ud",
        "colab_type": "code",
        "outputId": "59366306-8418-416d-c86f-7ba8d30e2288",
        "colab": {
          "base_uri": "https://localhost:8080/",
          "height": 51
        }
      },
      "source": [
        "%time tree = TreeEnsemble(X_train[cols], y_train, 1, 1000).trees[0]\n",
        "x_samp,y_samp = tree.x, tree.y"
      ],
      "execution_count": 0,
      "outputs": [
        {
          "output_type": "stream",
          "text": [
            "CPU times: user 457 ms, sys: 13 ms, total: 470 ms\n",
            "Wall time: 469 ms\n"
          ],
          "name": "stdout"
        }
      ]
    },
    {
      "cell_type": "code",
      "metadata": {
        "id": "to0SaDLr5-VP",
        "colab_type": "code",
        "outputId": "ca9a19ec-e32f-4af7-f030-a42d5096d59d",
        "colab": {
          "base_uri": "https://localhost:8080/",
          "height": 626
        }
      },
      "source": [
        "m = RandomForestRegressor(n_estimators=1, max_depth=3, bootstrap=False)\n",
        "m.fit(x_samp, y_samp)\n",
        "draw_tree(m.estimators_[0], x_samp, precision=2, ratio=0.9, size=7)"
      ],
      "execution_count": 0,
      "outputs": [
        {
          "output_type": "display_data",
          "data": {
            "text/plain": [
              "<graphviz.files.Source at 0x7f3bfba6acf8>"
            ],
            "image/svg+xml": "<?xml version=\"1.0\" encoding=\"UTF-8\" standalone=\"no\"?>\n<!DOCTYPE svg PUBLIC \"-//W3C//DTD SVG 1.1//EN\"\n \"http://www.w3.org/Graphics/SVG/1.1/DTD/svg11.dtd\">\n<!-- Generated by graphviz version 2.40.1 (20161225.0304)\n -->\n<!-- Title: Tree Pages: 1 -->\n<svg width=\"504pt\" height=\"454pt\"\n viewBox=\"0.00 0.00 504.00 454.25\" xmlns=\"http://www.w3.org/2000/svg\" xmlns:xlink=\"http://www.w3.org/1999/xlink\">\n<g id=\"graph0\" class=\"graph\" transform=\"scale(.8077 .8077) rotate(0) translate(4 558.4)\">\n<title>Tree</title>\n<polygon fill=\"#ffffff\" stroke=\"transparent\" points=\"-4,4 -4,-558.4 620,-558.4 620,4 -4,4\"/>\n<!-- 0 -->\n<g id=\"node1\" class=\"node\">\n<title>0</title>\n<polygon fill=\"#eca36f\" stroke=\"#000000\" points=\"146,-338.712 0,-338.712 0,-270.712 146,-270.712 146,-338.712\"/>\n<text text-anchor=\"start\" x=\"8\" y=\"-323.512\" font-family=\"Times,serif\" font-size=\"14.00\" fill=\"#000000\">Coupler_System ≤ 0.5</text>\n<text text-anchor=\"start\" x=\"40.5\" y=\"-308.512\" font-family=\"Times,serif\" font-size=\"14.00\" fill=\"#000000\">mse = 0.47</text>\n<text text-anchor=\"start\" x=\"27.5\" y=\"-293.512\" font-family=\"Times,serif\" font-size=\"14.00\" fill=\"#000000\">samples = 1000</text>\n<text text-anchor=\"start\" x=\"32.5\" y=\"-278.512\" font-family=\"Times,serif\" font-size=\"14.00\" fill=\"#000000\">value = 10.08</text>\n</g>\n<!-- 1 -->\n<g id=\"node2\" class=\"node\">\n<title>1</title>\n<polygon fill=\"#ea9b61\" stroke=\"#000000\" points=\"312.5,-374.712 181.5,-374.712 181.5,-306.712 312.5,-306.712 312.5,-374.712\"/>\n<text text-anchor=\"start\" x=\"189.5\" y=\"-359.512\" font-family=\"Times,serif\" font-size=\"14.00\" fill=\"#000000\">YearMade ≤ 1980.5</text>\n<text text-anchor=\"start\" x=\"214.5\" y=\"-344.512\" font-family=\"Times,serif\" font-size=\"14.00\" fill=\"#000000\">mse = 0.41</text>\n<text text-anchor=\"start\" x=\"205\" y=\"-329.512\" font-family=\"Times,serif\" font-size=\"14.00\" fill=\"#000000\">samples = 898</text>\n<text text-anchor=\"start\" x=\"206.5\" y=\"-314.512\" font-family=\"Times,serif\" font-size=\"14.00\" fill=\"#000000\">value = 10.18</text>\n</g>\n<!-- 0&#45;&gt;1 -->\n<g id=\"edge1\" class=\"edge\">\n<title>0&#45;&gt;1</title>\n<path fill=\"none\" stroke=\"#000000\" d=\"M146.0354,-319.8228C154.4579,-321.5653 163.0596,-323.345 171.5138,-325.0942\"/>\n<polygon fill=\"#000000\" stroke=\"#000000\" points=\"170.849,-328.5307 181.3508,-327.1294 172.2673,-321.6759 170.849,-328.5307\"/>\n<text text-anchor=\"middle\" x=\"160.4581\" y=\"-337.1588\" font-family=\"Times,serif\" font-size=\"14.00\" fill=\"#000000\">True</text>\n</g>\n<!-- 8 -->\n<g id=\"node9\" class=\"node\">\n<title>8</title>\n<polygon fill=\"#fcefe5\" stroke=\"#000000\" points=\"312.5,-246.712 181.5,-246.712 181.5,-178.712 312.5,-178.712 312.5,-246.712\"/>\n<text text-anchor=\"start\" x=\"189.5\" y=\"-231.512\" font-family=\"Times,serif\" font-size=\"14.00\" fill=\"#000000\">YearMade ≤ 1998.5</text>\n<text text-anchor=\"start\" x=\"214.5\" y=\"-216.512\" font-family=\"Times,serif\" font-size=\"14.00\" fill=\"#000000\">mse = 0.12</text>\n<text text-anchor=\"start\" x=\"205\" y=\"-201.512\" font-family=\"Times,serif\" font-size=\"14.00\" fill=\"#000000\">samples = 102</text>\n<text text-anchor=\"start\" x=\"210.5\" y=\"-186.512\" font-family=\"Times,serif\" font-size=\"14.00\" fill=\"#000000\">value = 9.17</text>\n</g>\n<!-- 0&#45;&gt;8 -->\n<g id=\"edge8\" class=\"edge\">\n<title>0&#45;&gt;8</title>\n<path fill=\"none\" stroke=\"#000000\" d=\"M137.7912,-270.4546C149.4176,-264.3073 161.6111,-257.8602 173.4629,-251.5937\"/>\n<polygon fill=\"#000000\" stroke=\"#000000\" points=\"175.2401,-254.6132 182.4445,-246.8448 171.9682,-248.4249 175.2401,-254.6132\"/>\n<text text-anchor=\"middle\" x=\"158.5539\" y=\"-235.78\" font-family=\"Times,serif\" font-size=\"14.00\" fill=\"#000000\">False</text>\n</g>\n<!-- 2 -->\n<g id=\"node3\" class=\"node\">\n<title>2</title>\n<polygon fill=\"#f0b88f\" stroke=\"#000000\" points=\"479.5,-489.712 348.5,-489.712 348.5,-421.712 479.5,-421.712 479.5,-489.712\"/>\n<text text-anchor=\"start\" x=\"356.5\" y=\"-474.512\" font-family=\"Times,serif\" font-size=\"14.00\" fill=\"#000000\">YearMade ≤ 1974.5</text>\n<text text-anchor=\"start\" x=\"381.5\" y=\"-459.512\" font-family=\"Times,serif\" font-size=\"14.00\" fill=\"#000000\">mse = 0.28</text>\n<text text-anchor=\"start\" x=\"372\" y=\"-444.512\" font-family=\"Times,serif\" font-size=\"14.00\" fill=\"#000000\">samples = 226</text>\n<text text-anchor=\"start\" x=\"377.5\" y=\"-429.512\" font-family=\"Times,serif\" font-size=\"14.00\" fill=\"#000000\">value = 9.83</text>\n</g>\n<!-- 1&#45;&gt;2 -->\n<g id=\"edge2\" class=\"edge\">\n<title>1&#45;&gt;2</title>\n<path fill=\"none\" stroke=\"#000000\" d=\"M296.6534,-374.9044C315.3302,-387.7657 336.7266,-402.4998 356.0904,-415.8341\"/>\n<polygon fill=\"#000000\" stroke=\"#000000\" points=\"354.3168,-418.8623 364.538,-421.6513 358.2869,-413.0971 354.3168,-418.8623\"/>\n</g>\n<!-- 5 -->\n<g id=\"node6\" class=\"node\">\n<title>5</title>\n<polygon fill=\"#e89152\" stroke=\"#000000\" points=\"473.5,-374.712 354.5,-374.712 354.5,-306.712 473.5,-306.712 473.5,-374.712\"/>\n<text text-anchor=\"start\" x=\"362.5\" y=\"-359.512\" font-family=\"Times,serif\" font-size=\"14.00\" fill=\"#000000\">ProductSize ≤ 1.5</text>\n<text text-anchor=\"start\" x=\"381.5\" y=\"-344.512\" font-family=\"Times,serif\" font-size=\"14.00\" fill=\"#000000\">mse = 0.39</text>\n<text text-anchor=\"start\" x=\"372\" y=\"-329.512\" font-family=\"Times,serif\" font-size=\"14.00\" fill=\"#000000\">samples = 672</text>\n<text text-anchor=\"start\" x=\"377.5\" y=\"-314.512\" font-family=\"Times,serif\" font-size=\"14.00\" fill=\"#000000\">value = 10.3</text>\n</g>\n<!-- 1&#45;&gt;5 -->\n<g id=\"edge5\" class=\"edge\">\n<title>1&#45;&gt;5</title>\n<path fill=\"none\" stroke=\"#000000\" d=\"M312.5235,-340.712C322.8722,-340.712 333.6076,-340.712 344.0523,-340.712\"/>\n<polygon fill=\"#000000\" stroke=\"#000000\" points=\"344.3751,-344.2121 354.375,-340.712 344.375,-337.2121 344.3751,-344.2121\"/>\n</g>\n<!-- 3 -->\n<g id=\"node4\" class=\"node\">\n<title>3</title>\n<polygon fill=\"#f2c19e\" stroke=\"#000000\" points=\"616,-554.212 516,-554.212 516,-501.212 616,-501.212 616,-554.212\"/>\n<text text-anchor=\"start\" x=\"533.5\" y=\"-539.012\" font-family=\"Times,serif\" font-size=\"14.00\" fill=\"#000000\">mse = 0.25</text>\n<text text-anchor=\"start\" x=\"524\" y=\"-524.012\" font-family=\"Times,serif\" font-size=\"14.00\" fill=\"#000000\">samples = 143</text>\n<text text-anchor=\"start\" x=\"529.5\" y=\"-509.012\" font-family=\"Times,serif\" font-size=\"14.00\" fill=\"#000000\">value = 9.72</text>\n</g>\n<!-- 2&#45;&gt;3 -->\n<g id=\"edge3\" class=\"edge\">\n<title>2&#45;&gt;3</title>\n<path fill=\"none\" stroke=\"#000000\" d=\"M479.7854,-486.8735C488.7177,-491.1046 497.8417,-495.4265 506.6517,-499.5997\"/>\n<polygon fill=\"#000000\" stroke=\"#000000\" points=\"505.1622,-502.7668 515.6979,-503.8847 508.1588,-496.4407 505.1622,-502.7668\"/>\n</g>\n<!-- 4 -->\n<g id=\"node5\" class=\"node\">\n<title>4</title>\n<polygon fill=\"#eda775\" stroke=\"#000000\" points=\"614.5,-482.212 517.5,-482.212 517.5,-429.212 614.5,-429.212 614.5,-482.212\"/>\n<text text-anchor=\"start\" x=\"533.5\" y=\"-467.012\" font-family=\"Times,serif\" font-size=\"14.00\" fill=\"#000000\">mse = 0.29</text>\n<text text-anchor=\"start\" x=\"528\" y=\"-452.012\" font-family=\"Times,serif\" font-size=\"14.00\" fill=\"#000000\">samples = 83</text>\n<text text-anchor=\"start\" x=\"525.5\" y=\"-437.012\" font-family=\"Times,serif\" font-size=\"14.00\" fill=\"#000000\">value = 10.03</text>\n</g>\n<!-- 2&#45;&gt;4 -->\n<g id=\"edge4\" class=\"edge\">\n<title>2&#45;&gt;4</title>\n<path fill=\"none\" stroke=\"#000000\" d=\"M479.7854,-455.712C488.7816,-455.712 497.9723,-455.712 506.8409,-455.712\"/>\n<polygon fill=\"#000000\" stroke=\"#000000\" points=\"507.0729,-459.2121 517.0728,-455.712 507.0728,-452.2121 507.0729,-459.2121\"/>\n</g>\n<!-- 6 -->\n<g id=\"node7\" class=\"node\">\n<title>6</title>\n<polygon fill=\"#eba06a\" stroke=\"#000000\" points=\"616,-411.212 516,-411.212 516,-358.212 616,-358.212 616,-411.212\"/>\n<text text-anchor=\"start\" x=\"533.5\" y=\"-396.012\" font-family=\"Times,serif\" font-size=\"14.00\" fill=\"#000000\">mse = 0.29</text>\n<text text-anchor=\"start\" x=\"524\" y=\"-381.012\" font-family=\"Times,serif\" font-size=\"14.00\" fill=\"#000000\">samples = 341</text>\n<text text-anchor=\"start\" x=\"526\" y=\"-366.012\" font-family=\"Times,serif\" font-size=\"14.00\" fill=\"#000000\">value = 10.11</text>\n</g>\n<!-- 5&#45;&gt;6 -->\n<g id=\"edge6\" class=\"edge\">\n<title>5&#45;&gt;6</title>\n<path fill=\"none\" stroke=\"#000000\" d=\"M473.6382,-357.9757C484.3361,-361.0724 495.488,-364.3006 506.1907,-367.3988\"/>\n<polygon fill=\"#000000\" stroke=\"#000000\" points=\"505.2887,-370.7813 515.8675,-370.2 507.2351,-364.0573 505.2887,-370.7813\"/>\n</g>\n<!-- 7 -->\n<g id=\"node8\" class=\"node\">\n<title>7</title>\n<polygon fill=\"#e58139\" stroke=\"#000000\" points=\"616,-339.212 516,-339.212 516,-286.212 616,-286.212 616,-339.212\"/>\n<text text-anchor=\"start\" x=\"533.5\" y=\"-324.012\" font-family=\"Times,serif\" font-size=\"14.00\" fill=\"#000000\">mse = 0.43</text>\n<text text-anchor=\"start\" x=\"524\" y=\"-309.012\" font-family=\"Times,serif\" font-size=\"14.00\" fill=\"#000000\">samples = 331</text>\n<text text-anchor=\"start\" x=\"525.5\" y=\"-294.012\" font-family=\"Times,serif\" font-size=\"14.00\" fill=\"#000000\">value = 10.49</text>\n</g>\n<!-- 5&#45;&gt;7 -->\n<g id=\"edge7\" class=\"edge\">\n<title>5&#45;&gt;7</title>\n<path fill=\"none\" stroke=\"#000000\" d=\"M473.6382,-329.726C484.2269,-327.7755 495.2605,-325.743 505.863,-323.7899\"/>\n<polygon fill=\"#000000\" stroke=\"#000000\" points=\"506.6671,-327.2007 515.8675,-321.9469 505.3989,-320.3165 506.6671,-327.2007\"/>\n</g>\n<!-- 9 -->\n<g id=\"node10\" class=\"node\">\n<title>9</title>\n<polygon fill=\"#fefbf9\" stroke=\"#000000\" points=\"473.5,-246.712 354.5,-246.712 354.5,-178.712 473.5,-178.712 473.5,-246.712\"/>\n<text text-anchor=\"start\" x=\"362.5\" y=\"-231.512\" font-family=\"Times,serif\" font-size=\"14.00\" fill=\"#000000\">saleYear ≤ 1995.5</text>\n<text text-anchor=\"start\" x=\"385\" y=\"-216.512\" font-family=\"Times,serif\" font-size=\"14.00\" fill=\"#000000\">mse = 0.1</text>\n<text text-anchor=\"start\" x=\"376\" y=\"-201.512\" font-family=\"Times,serif\" font-size=\"14.00\" fill=\"#000000\">samples = 49</text>\n<text text-anchor=\"start\" x=\"377.5\" y=\"-186.512\" font-family=\"Times,serif\" font-size=\"14.00\" fill=\"#000000\">value = 9.02</text>\n</g>\n<!-- 8&#45;&gt;9 -->\n<g id=\"edge9\" class=\"edge\">\n<title>8&#45;&gt;9</title>\n<path fill=\"none\" stroke=\"#000000\" d=\"M312.5235,-212.712C322.8722,-212.712 333.6076,-212.712 344.0523,-212.712\"/>\n<polygon fill=\"#000000\" stroke=\"#000000\" points=\"344.3751,-216.2121 354.375,-212.712 344.375,-209.2121 344.3751,-216.2121\"/>\n</g>\n<!-- 12 -->\n<g id=\"node13\" class=\"node\">\n<title>12</title>\n<polygon fill=\"#f9e3d3\" stroke=\"#000000\" points=\"473.5,-132.712 354.5,-132.712 354.5,-64.712 473.5,-64.712 473.5,-132.712\"/>\n<text text-anchor=\"start\" x=\"362.5\" y=\"-117.512\" font-family=\"Times,serif\" font-size=\"14.00\" fill=\"#000000\">saleYear ≤ 2007.5</text>\n<text text-anchor=\"start\" x=\"385\" y=\"-102.512\" font-family=\"Times,serif\" font-size=\"14.00\" fill=\"#000000\">mse = 0.1</text>\n<text text-anchor=\"start\" x=\"376\" y=\"-87.512\" font-family=\"Times,serif\" font-size=\"14.00\" fill=\"#000000\">samples = 53</text>\n<text text-anchor=\"start\" x=\"377.5\" y=\"-72.512\" font-family=\"Times,serif\" font-size=\"14.00\" fill=\"#000000\">value = 9.31</text>\n</g>\n<!-- 8&#45;&gt;12 -->\n<g id=\"edge12\" class=\"edge\">\n<title>8&#45;&gt;12</title>\n<path fill=\"none\" stroke=\"#000000\" d=\"M297.1055,-178.5082C315.5176,-165.9395 336.5232,-151.6003 355.6014,-138.5769\"/>\n<polygon fill=\"#000000\" stroke=\"#000000\" points=\"357.644,-141.4203 363.9299,-132.8916 353.6974,-135.6389 357.644,-141.4203\"/>\n</g>\n<!-- 10 -->\n<g id=\"node11\" class=\"node\">\n<title>10</title>\n<polygon fill=\"#f7d7c0\" stroke=\"#000000\" points=\"610.5,-268.212 521.5,-268.212 521.5,-215.212 610.5,-215.212 610.5,-268.212\"/>\n<text text-anchor=\"start\" x=\"533.5\" y=\"-253.012\" font-family=\"Times,serif\" font-size=\"14.00\" fill=\"#000000\">mse = 0.03</text>\n<text text-anchor=\"start\" x=\"531.5\" y=\"-238.012\" font-family=\"Times,serif\" font-size=\"14.00\" fill=\"#000000\">samples = 5</text>\n<text text-anchor=\"start\" x=\"529.5\" y=\"-223.012\" font-family=\"Times,serif\" font-size=\"14.00\" fill=\"#000000\">value = 9.46</text>\n</g>\n<!-- 9&#45;&gt;10 -->\n<g id=\"edge10\" class=\"edge\">\n<title>9&#45;&gt;10</title>\n<path fill=\"none\" stroke=\"#000000\" d=\"M473.6382,-224.0903C485.9839,-226.4458 498.9343,-228.9166 511.1012,-231.2379\"/>\n<polygon fill=\"#000000\" stroke=\"#000000\" points=\"510.6278,-234.7106 521.1065,-233.1468 511.9397,-227.8346 510.6278,-234.7106\"/>\n</g>\n<!-- 11 -->\n<g id=\"node12\" class=\"node\">\n<title>11</title>\n<polygon fill=\"#ffffff\" stroke=\"#000000\" points=\"612,-196.212 520,-196.212 520,-143.212 612,-143.212 612,-196.212\"/>\n<text text-anchor=\"start\" x=\"533.5\" y=\"-181.012\" font-family=\"Times,serif\" font-size=\"14.00\" fill=\"#000000\">mse = 0.08</text>\n<text text-anchor=\"start\" x=\"528\" y=\"-166.012\" font-family=\"Times,serif\" font-size=\"14.00\" fill=\"#000000\">samples = 44</text>\n<text text-anchor=\"start\" x=\"529.5\" y=\"-151.012\" font-family=\"Times,serif\" font-size=\"14.00\" fill=\"#000000\">value = 8.97</text>\n</g>\n<!-- 9&#45;&gt;11 -->\n<g id=\"edge11\" class=\"edge\">\n<title>9&#45;&gt;11</title>\n<path fill=\"none\" stroke=\"#000000\" d=\"M473.6382,-195.8407C485.594,-192.4584 498.117,-188.9157 509.9462,-185.5693\"/>\n<polygon fill=\"#000000\" stroke=\"#000000\" points=\"511.0223,-188.9023 519.6919,-182.8123 509.1168,-182.1667 511.0223,-188.9023\"/>\n</g>\n<!-- 13 -->\n<g id=\"node14\" class=\"node\">\n<title>13</title>\n<polygon fill=\"#f6d5bd\" stroke=\"#000000\" points=\"612,-125.212 520,-125.212 520,-72.212 612,-72.212 612,-125.212\"/>\n<text text-anchor=\"start\" x=\"533.5\" y=\"-110.012\" font-family=\"Times,serif\" font-size=\"14.00\" fill=\"#000000\">mse = 0.08</text>\n<text text-anchor=\"start\" x=\"528\" y=\"-95.012\" font-family=\"Times,serif\" font-size=\"14.00\" fill=\"#000000\">samples = 22</text>\n<text text-anchor=\"start\" x=\"529.5\" y=\"-80.012\" font-family=\"Times,serif\" font-size=\"14.00\" fill=\"#000000\">value = 9.48</text>\n</g>\n<!-- 12&#45;&gt;13 -->\n<g id=\"edge13\" class=\"edge\">\n<title>12&#45;&gt;13</title>\n<path fill=\"none\" stroke=\"#000000\" d=\"M473.6382,-98.712C485.4745,-98.712 497.8666,-98.712 509.5911,-98.712\"/>\n<polygon fill=\"#000000\" stroke=\"#000000\" points=\"509.6919,-102.2121 519.6919,-98.712 509.6919,-95.2121 509.6919,-102.2121\"/>\n</g>\n<!-- 14 -->\n<g id=\"node15\" class=\"node\">\n<title>14</title>\n<polygon fill=\"#fbede3\" stroke=\"#000000\" points=\"612,-53.212 520,-53.212 520,-.212 612,-.212 612,-53.212\"/>\n<text text-anchor=\"start\" x=\"533.5\" y=\"-38.012\" font-family=\"Times,serif\" font-size=\"14.00\" fill=\"#000000\">mse = 0.08</text>\n<text text-anchor=\"start\" x=\"528\" y=\"-23.012\" font-family=\"Times,serif\" font-size=\"14.00\" fill=\"#000000\">samples = 31</text>\n<text text-anchor=\"start\" x=\"529.5\" y=\"-8.012\" font-family=\"Times,serif\" font-size=\"14.00\" fill=\"#000000\">value = 9.19</text>\n</g>\n<!-- 12&#45;&gt;14 -->\n<g id=\"edge14\" class=\"edge\">\n<title>12&#45;&gt;14</title>\n<path fill=\"none\" stroke=\"#000000\" d=\"M473.6382,-70.4623C485.7136,-64.7424 498.3675,-58.7484 510.3009,-53.0958\"/>\n<polygon fill=\"#000000\" stroke=\"#000000\" points=\"512.1528,-56.0914 519.6919,-48.6474 509.1562,-49.7652 512.1528,-56.0914\"/>\n</g>\n</g>\n</svg>\n"
          },
          "metadata": {
            "tags": []
          }
        }
      ]
    },
    {
      "cell_type": "code",
      "metadata": {
        "id": "1QOSM6a06AhO",
        "colab_type": "code",
        "colab": {}
      },
      "source": [
        "def predict(self, x): return np.array([self.predict_row(xi) for xi in x])\n",
        "DecisionTree.predict = predict"
      ],
      "execution_count": 0,
      "outputs": []
    },
    {
      "cell_type": "code",
      "metadata": {
        "id": "cM74_pup6DMv",
        "colab_type": "code",
        "colab": {}
      },
      "source": [
        "def predict_row(self, xi):\n",
        "    if self.is_leaf: return self.val\n",
        "    t = self.lhs if xi[self.var_idx]<=self.split else self.rhs\n",
        "    return t.predict_row(xi)\n",
        "\n",
        "DecisionTree.predict_row = predict_row"
      ],
      "execution_count": 0,
      "outputs": []
    },
    {
      "cell_type": "code",
      "metadata": {
        "id": "IcTIXzos6iNh",
        "colab_type": "code",
        "outputId": "ac52dd15-d81b-40ca-b505-b9b2e3b39a69",
        "colab": {
          "base_uri": "https://localhost:8080/",
          "height": 51
        }
      },
      "source": [
        "%time preds = tree.predict(X_valid[cols].values)"
      ],
      "execution_count": 0,
      "outputs": [
        {
          "output_type": "stream",
          "text": [
            "CPU times: user 88.3 ms, sys: 3.98 ms, total: 92.3 ms\n",
            "Wall time: 92.1 ms\n"
          ],
          "name": "stdout"
        }
      ]
    },
    {
      "cell_type": "code",
      "metadata": {
        "id": "Dl5rTMRb6mI9",
        "colab_type": "code",
        "outputId": "4b2ded58-2f65-4fff-f204-a19da75bbd82",
        "colab": {
          "base_uri": "https://localhost:8080/",
          "height": 286
        }
      },
      "source": [
        "plt.scatter(preds, y_valid, alpha=0.05)"
      ],
      "execution_count": 0,
      "outputs": [
        {
          "output_type": "execute_result",
          "data": {
            "text/plain": [
              "<matplotlib.collections.PathCollection at 0x7f3bfba3d0b8>"
            ]
          },
          "metadata": {
            "tags": []
          },
          "execution_count": 102
        },
        {
          "output_type": "display_data",
          "data": {
            "image/png": "[encoded data removed]",
            "text/plain": [
              "<Figure size 432x288 with 1 Axes>"
            ]
          },
          "metadata": {
            "tags": []
          }
        }
      ]
    },
    {
      "cell_type": "code",
      "metadata": {
        "id": "RZE2YO066xKY",
        "colab_type": "code",
        "outputId": "b272061d-93fe-4abf-ebf1-845044d0066e",
        "colab": {
          "base_uri": "https://localhost:8080/",
          "height": 34
        }
      },
      "source": [
        "metrics.r2_score(preds, y_valid)"
      ],
      "execution_count": 0,
      "outputs": [
        {
          "output_type": "execute_result",
          "data": {
            "text/plain": [
              "0.4840854669925271"
            ]
          },
          "metadata": {
            "tags": []
          },
          "execution_count": 103
        }
      ]
    },
    {
      "cell_type": "code",
      "metadata": {
        "id": "_8yBElEc60rV",
        "colab_type": "code",
        "outputId": "9647d01c-a05c-4cad-c513-d0c298d238b6",
        "colab": {
          "base_uri": "https://localhost:8080/",
          "height": 320
        }
      },
      "source": [
        "m = RandomForestRegressor(n_estimators=1, min_samples_leaf=5, bootstrap=False)\n",
        "%time m.fit(x_samp, y_samp)\n",
        "preds = m.predict(X_valid[cols].values)\n",
        "plt.scatter(preds, y_valid, alpha=0.05)"
      ],
      "execution_count": 0,
      "outputs": [
        {
          "output_type": "stream",
          "text": [
            "CPU times: user 5.31 ms, sys: 11 µs, total: 5.32 ms\n",
            "Wall time: 4.83 ms\n"
          ],
          "name": "stdout"
        },
        {
          "output_type": "execute_result",
          "data": {
            "text/plain": [
              "<matplotlib.collections.PathCollection at 0x7f3bf994f898>"
            ]
          },
          "metadata": {
            "tags": []
          },
          "execution_count": 104
        },
        {
          "output_type": "display_data",
          "data": {
            "image/png": "[encoded data removed]",
            "text/plain": [
              "<Figure size 432x288 with 1 Axes>"
            ]
          },
          "metadata": {
            "tags": []
          }
        }
      ]
    },
    {
      "cell_type": "code",
      "metadata": {
        "id": "-bUiWjKq68g1",
        "colab_type": "code",
        "outputId": "ab5d08b0-f9f7-4c42-efb2-65ed7a565fee",
        "colab": {
          "base_uri": "https://localhost:8080/",
          "height": 34
        }
      },
      "source": [
        "metrics.r2_score(preds, y_valid)"
      ],
      "execution_count": 0,
      "outputs": [
        {
          "output_type": "execute_result",
          "data": {
            "text/plain": [
              "0.47541053100694797"
            ]
          },
          "metadata": {
            "tags": []
          },
          "execution_count": 105
        }
      ]
    }
  ]
}